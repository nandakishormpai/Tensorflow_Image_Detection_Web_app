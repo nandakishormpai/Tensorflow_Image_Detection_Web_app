{
  "nbformat": 4,
  "nbformat_minor": 0,
  "metadata": {
    "colab": {
      "name": "bootcamp_project.ipynb",
      "provenance": [],
      "collapsed_sections": []
    },
    "kernelspec": {
      "display_name": "Python 3",
      "name": "python3"
    },
    "language_info": {
      "name": "python"
    }
  },
  "cells": [
    {
      "cell_type": "markdown",
      "metadata": {
        "id": "hGjjaSLStD4B"
      },
      "source": [
        "**Image Classification with Tensorflow and CNN**"
      ]
    },
    {
      "cell_type": "markdown",
      "metadata": {
        "id": "Pvak48nIsMjt"
      },
      "source": [
        "Installing LR Finder and TFDS"
      ]
    },
    {
      "cell_type": "code",
      "metadata": {
        "id": "D1QHs8eZmuZr"
      },
      "source": [
        "!pip install tensorflow-hub\n",
        "!pip install tensorflow-datasets\n",
        "!git clone https://github.com/beringresearch/lrfinder/\n",
        "!cd lrfinder && python3 -m pip install ."
      ],
      "execution_count": null,
      "outputs": []
    },
    {
      "cell_type": "code",
      "metadata": {
        "id": "MZnW93_elxWj"
      },
      "source": [
        "import tensorflow as tf\n",
        "import tensorflow_datasets as tfds\n",
        "from tensorflow.keras.callbacks import EarlyStopping\n",
        "from lrfinder import LRFinder\n",
        "K = tf.keras.backend\n",
        "from keras.layers import GlobalAveragePooling2D, Dense, Conv2D, Flatten, Input, MaxPooling2D\n",
        "from keras.layers import BatchNormalization, Dropout\n",
        "from keras.models import Model\n",
        "import numpy as np\n",
        "import platform\n",
        "import datetime\n",
        "import os\n",
        "import math\n",
        "import random"
      ],
      "execution_count": 2,
      "outputs": []
    },
    {
      "cell_type": "markdown",
      "metadata": {
        "id": "6mlprgD9sQsB"
      },
      "source": [
        "Downloading Rock Paper Scissors"
      ]
    },
    {
      "cell_type": "code",
      "metadata": {
        "id": "Sf8MKgcAnHzc"
      },
      "source": [
        "DATASET_NAME = 'rock_paper_scissors'\n",
        "\n",
        "(dataset_train_raw, dataset_test_raw), dataset_info = tfds.load(\n",
        "    name=DATASET_NAME,\n",
        "    data_dir='tmp',\n",
        "    with_info=True,\n",
        "    as_supervised=True,\n",
        "    split=[tfds.Split.TRAIN, tfds.Split.TEST],\n",
        ")"
      ],
      "execution_count": 3,
      "outputs": []
    },
    {
      "cell_type": "markdown",
      "metadata": {
        "id": "Mlj_vXM_sTXJ"
      },
      "source": [
        "Image Preprocessing function"
      ]
    },
    {
      "cell_type": "code",
      "metadata": {
        "id": "V_97EQ3WnOHk"
      },
      "source": [
        "def preprocess_img(image, label):\n",
        "    # Make image color values to be float.\n",
        "    image = tf.cast(image, tf.float32)\n",
        "    # Make image color values to be in [0..1] range.\n",
        "    image = image / 255.\n",
        "    # Make sure that image has a right size\n",
        "    image = tf.image.resize(image, [256,256])\n",
        "    return image, label\n",
        "\n",
        "dataset_train = dataset_train_raw.map(preprocess_img)\n",
        "dataset_test = dataset_test_raw.map(preprocess_img)"
      ],
      "execution_count": 4,
      "outputs": []
    },
    {
      "cell_type": "code",
      "metadata": {
        "colab": {
          "base_uri": "https://localhost:8080/"
        },
        "id": "vp1YH-zTH6Ei",
        "outputId": "69964b93-ecf4-49e1-db50-c4ffe5be7b3b"
      },
      "source": [
        "print(dataset_train.cardinality().numpy())\n",
        "print(dataset_test.cardinality().numpy())"
      ],
      "execution_count": 5,
      "outputs": [
        {
          "output_type": "stream",
          "name": "stdout",
          "text": [
            "2520\n",
            "372\n"
          ]
        }
      ]
    },
    {
      "cell_type": "code",
      "metadata": {
        "id": "r2-fRdzjoOEq"
      },
      "source": [
        "dataset_train = dataset_train.batch(64)\n",
        "dataset_test = dataset_test.batch(32)"
      ],
      "execution_count": 6,
      "outputs": []
    },
    {
      "cell_type": "markdown",
      "metadata": {
        "id": "NR3zTxoLsYxE"
      },
      "source": [
        "Model Architecture"
      ]
    },
    {
      "cell_type": "code",
      "metadata": {
        "id": "meWK_Qm4qiMk"
      },
      "source": [
        "input_layer = Input(shape=(256,256,3))\n",
        "conv_1 = Conv2D(16, (5,5), activation='relu', input_shape=(256, 256, 3))\n",
        "conv_2 = Conv2D(32, (5,5), activation='relu')\n",
        "conv_3 = Conv2D(64, (5,5), strides=2, activation='relu')\n",
        "conv_4 = Conv2D(128, (5,5), strides=2, activation='relu')\n",
        "\n",
        "x = conv_1(input_layer)\n",
        "x = MaxPooling2D(pool_size=[2, 2], strides=2)(x)\n",
        "\n",
        "x = conv_2(x)\n",
        "x = MaxPooling2D(pool_size=[2, 2], strides=2)(x)\n",
        "\n",
        "x = conv_3(x)\n",
        "x = MaxPooling2D(pool_size=[2, 2], strides=2)(x)\n",
        "\n",
        "x = conv_4(x)\n",
        "x = MaxPooling2D(pool_size=[2, 2], strides=2)(x)\n",
        "\n",
        "x = Flatten()(x)\n",
        "x = Dense(512, activation ='relu')(x)\n",
        "\n",
        "x = Dropout(0.5)(x) \n",
        "x = Dense(256, activation ='relu')(x)\n",
        "\n",
        "x = BatchNormalization()(x)\n",
        "x = Dropout(0.5)(x)\n",
        "x = Dense(3, activation ='softmax')(x)\n",
        "\n",
        "model = Model(input_layer, x)\n"
      ],
      "execution_count": 20,
      "outputs": []
    },
    {
      "cell_type": "markdown",
      "metadata": {
        "id": "ZboB2hcssg03"
      },
      "source": [
        "Compiling Model"
      ]
    },
    {
      "cell_type": "code",
      "metadata": {
        "id": "ET7tFagUq8Sz"
      },
      "source": [
        "model.compile(optimizer ='Adam', \n",
        "              loss =\"sparse_categorical_crossentropy\", \n",
        "              metrics =[\"sparse_categorical_accuracy\"]) \n"
      ],
      "execution_count": 21,
      "outputs": []
    },
    {
      "cell_type": "markdown",
      "metadata": {
        "id": "Tx6wV3PbsjFH"
      },
      "source": [
        "LR Finder to find best Learning Rate"
      ]
    },
    {
      "cell_type": "code",
      "metadata": {
        "colab": {
          "base_uri": "https://localhost:8080/"
        },
        "id": "QXu6Cv9_-cdr",
        "outputId": "506161ff-6be2-4346-8ed8-3f7b3b056941"
      },
      "source": [
        "BATCH = 64\n",
        "\n",
        "STEPS_PER_EPOCH = np.ceil(2520 / BATCH)\n",
        "lr_finder = LRFinder(model)\n",
        "lr_finder.find(dataset_train, start_lr=1e-6, end_lr=1, epochs=10,\n",
        "               steps_per_epoch=STEPS_PER_EPOCH)\n",
        "               \n",
        "learning_rates = lr_finder.get_learning_rates()\n",
        "losses = lr_finder.get_losses()\n"
      ],
      "execution_count": 22,
      "outputs": [
        {
          "output_type": "stream",
          "name": "stdout",
          "text": [
            "Epoch 1/10\n",
            "40/40 [==============================] - 199s 5s/step - loss: 1.7092 - sparse_categorical_accuracy: 0.3163\n",
            "Epoch 2/10\n",
            "40/40 [==============================] - 198s 5s/step - loss: 1.5649 - sparse_categorical_accuracy: 0.3496\n",
            "Epoch 3/10\n",
            "40/40 [==============================] - 198s 5s/step - loss: 1.2601 - sparse_categorical_accuracy: 0.4119\n",
            "Epoch 4/10\n",
            "40/40 [==============================] - 198s 5s/step - loss: 0.7785 - sparse_categorical_accuracy: 0.6508\n",
            "Epoch 5/10\n",
            "40/40 [==============================] - 198s 5s/step - loss: 0.2157 - sparse_categorical_accuracy: 0.9242\n",
            "Epoch 6/10\n",
            "40/40 [==============================] - 198s 5s/step - loss: 0.0621 - sparse_categorical_accuracy: 0.9810\n",
            "Epoch 7/10\n",
            "40/40 [==============================] - 35s 769ms/step - loss: 0.2424 - sparse_categorical_accuracy: 0.9152\n"
          ]
        }
      ]
    },
    {
      "cell_type": "markdown",
      "metadata": {
        "id": "6WqqDWl-smXC"
      },
      "source": [
        "Assigning the Best value through Backend"
      ]
    },
    {
      "cell_type": "code",
      "metadata": {
        "id": "uw2gN9do5B65"
      },
      "source": [
        "best_lr = lr_finder.get_best_lr(sma=20)\n",
        "K.set_value(model.optimizer.lr, best_lr)"
      ],
      "execution_count": 23,
      "outputs": []
    },
    {
      "cell_type": "markdown",
      "metadata": {
        "id": "9838Q5qjspQO"
      },
      "source": [
        "Plotting LR Finder Observations for analysis"
      ]
    },
    {
      "cell_type": "code",
      "metadata": {
        "colab": {
          "base_uri": "https://localhost:8080/",
          "height": 300
        },
        "id": "hUJmVe4GR-tn",
        "outputId": "d89d2dc8-4a83-483f-e203-81d144552ef9"
      },
      "source": [
        "import matplotlib.pyplot as plt\n",
        "\n",
        "def plot_loss(learning_rates, losses, n_skip_beginning=10, n_skip_end=5, x_scale='log'):\n",
        "    f, ax = plt.subplots()\n",
        "    ax.set_ylabel(\"loss\")\n",
        "    ax.set_xlabel(\"learning rate (log scale)\")\n",
        "    ax.plot(learning_rates[:-1],\n",
        "            losses[:-1])\n",
        "    ax.set_xscale(x_scale)\n",
        "    return(ax)\n",
        "\n",
        "axs = plot_loss(learning_rates, losses)\n",
        "axs.axvline(x=lr_finder.get_best_lr(sma=20), c='r', linestyle='-.')"
      ],
      "execution_count": 24,
      "outputs": [
        {
          "output_type": "execute_result",
          "data": {
            "text/plain": [
              "<matplotlib.lines.Line2D at 0x7f0066eea5d0>"
            ]
          },
          "metadata": {},
          "execution_count": 24
        },
        {
          "output_type": "display_data",
          "data": {
            "image/png": "[encoded data removed]",
            "text/plain": [
              "<Figure size 432x288 with 1 Axes>"
            ]
          },
          "metadata": {
            "needs_background": "light"
          }
        }
      ]
    },
    {
      "cell_type": "code",
      "metadata": {
        "colab": {
          "base_uri": "https://localhost:8080/"
        },
        "id": "nCSlv1QHq_Eq",
        "outputId": "d8be5586-2f67-41e7-ebfa-c192adeafa06"
      },
      "source": [
        "model.summary() \n"
      ],
      "execution_count": 25,
      "outputs": [
        {
          "output_type": "stream",
          "name": "stdout",
          "text": [
            "Model: \"model_1\"\n",
            "_________________________________________________________________\n",
            "Layer (type)                 Output Shape              Param #   \n",
            "=================================================================\n",
            "input_2 (InputLayer)         [(None, 256, 256, 3)]     0         \n",
            "_________________________________________________________________\n",
            "conv2d_4 (Conv2D)            (None, 252, 252, 16)      1216      \n",
            "_________________________________________________________________\n",
            "max_pooling2d_4 (MaxPooling2 (None, 126, 126, 16)      0         \n",
            "_________________________________________________________________\n",
            "conv2d_5 (Conv2D)            (None, 122, 122, 32)      12832     \n",
            "_________________________________________________________________\n",
            "max_pooling2d_5 (MaxPooling2 (None, 61, 61, 32)        0         \n",
            "_________________________________________________________________\n",
            "conv2d_6 (Conv2D)            (None, 29, 29, 64)        51264     \n",
            "_________________________________________________________________\n",
            "max_pooling2d_6 (MaxPooling2 (None, 14, 14, 64)        0         \n",
            "_________________________________________________________________\n",
            "conv2d_7 (Conv2D)            (None, 5, 5, 128)         204928    \n",
            "_________________________________________________________________\n",
            "max_pooling2d_7 (MaxPooling2 (None, 2, 2, 128)         0         \n",
            "_________________________________________________________________\n",
            "flatten_1 (Flatten)          (None, 512)               0         \n",
            "_________________________________________________________________\n",
            "dense_3 (Dense)              (None, 512)               262656    \n",
            "_________________________________________________________________\n",
            "dropout_2 (Dropout)          (None, 512)               0         \n",
            "_________________________________________________________________\n",
            "dense_4 (Dense)              (None, 256)               131328    \n",
            "_________________________________________________________________\n",
            "batch_normalization_1 (Batch (None, 256)               1024      \n",
            "_________________________________________________________________\n",
            "dropout_3 (Dropout)          (None, 256)               0         \n",
            "_________________________________________________________________\n",
            "dense_5 (Dense)              (None, 3)                 771       \n",
            "=================================================================\n",
            "Total params: 666,019\n",
            "Trainable params: 665,507\n",
            "Non-trainable params: 512\n",
            "_________________________________________________________________\n"
          ]
        }
      ]
    },
    {
      "cell_type": "markdown",
      "metadata": {
        "id": "Gh4VZlYYstzp"
      },
      "source": [
        "Defining Early Stop Callback"
      ]
    },
    {
      "cell_type": "code",
      "metadata": {
        "id": "K5ag8LLQrE2j"
      },
      "source": [
        "earlystop_callback = EarlyStopping(\n",
        "  monitor='val_loss', min_delta=0.0001, patience=2)"
      ],
      "execution_count": 26,
      "outputs": []
    },
    {
      "cell_type": "markdown",
      "metadata": {
        "id": "iQYobDkus4BO"
      },
      "source": [
        "Fitting Model with Datasets and callback"
      ]
    },
    {
      "cell_type": "code",
      "metadata": {
        "id": "v4yFZSrjrBdO",
        "colab": {
          "base_uri": "https://localhost:8080/"
        },
        "outputId": "577c4a64-da21-4265-a16e-b3230ed8c77f"
      },
      "source": [
        "history = model.fit(dataset_train, epochs=10, validation_data=dataset_test, callbacks=[earlystop_callback])"
      ],
      "execution_count": 27,
      "outputs": [
        {
          "output_type": "stream",
          "name": "stdout",
          "text": [
            "Epoch 1/10\n",
            "40/40 [==============================] - 206s 5s/step - loss: 0.9014 - sparse_categorical_accuracy: 0.6091 - val_loss: 1.0055 - val_sparse_categorical_accuracy: 0.7688\n",
            "Epoch 2/10\n",
            "40/40 [==============================] - 205s 5s/step - loss: 0.0981 - sparse_categorical_accuracy: 0.9718 - val_loss: 0.7937 - val_sparse_categorical_accuracy: 0.9140\n",
            "Epoch 3/10\n",
            "40/40 [==============================] - 206s 5s/step - loss: 0.0180 - sparse_categorical_accuracy: 0.9956 - val_loss: 0.6989 - val_sparse_categorical_accuracy: 0.8978\n",
            "Epoch 4/10\n",
            "40/40 [==============================] - 205s 5s/step - loss: 0.0049 - sparse_categorical_accuracy: 0.9988 - val_loss: 0.5840 - val_sparse_categorical_accuracy: 0.9032\n",
            "Epoch 5/10\n",
            "40/40 [==============================] - 206s 5s/step - loss: 0.0031 - sparse_categorical_accuracy: 0.9996 - val_loss: 0.4979 - val_sparse_categorical_accuracy: 0.9247\n",
            "Epoch 6/10\n",
            "40/40 [==============================] - 206s 5s/step - loss: 0.0018 - sparse_categorical_accuracy: 1.0000 - val_loss: 0.4336 - val_sparse_categorical_accuracy: 0.9140\n",
            "Epoch 7/10\n",
            "40/40 [==============================] - 206s 5s/step - loss: 0.0012 - sparse_categorical_accuracy: 1.0000 - val_loss: 0.4265 - val_sparse_categorical_accuracy: 0.8844\n",
            "Epoch 8/10\n",
            "40/40 [==============================] - 206s 5s/step - loss: 9.4572e-04 - sparse_categorical_accuracy: 1.0000 - val_loss: 0.3472 - val_sparse_categorical_accuracy: 0.8925\n",
            "Epoch 9/10\n",
            "40/40 [==============================] - 206s 5s/step - loss: 8.7666e-04 - sparse_categorical_accuracy: 1.0000 - val_loss: 0.3897 - val_sparse_categorical_accuracy: 0.8683\n",
            "Epoch 10/10\n",
            "40/40 [==============================] - 206s 5s/step - loss: 6.1657e-04 - sparse_categorical_accuracy: 1.0000 - val_loss: 0.3367 - val_sparse_categorical_accuracy: 0.8871\n"
          ]
        }
      ]
    },
    {
      "cell_type": "markdown",
      "metadata": {
        "id": "39gxeS0Rs9DM"
      },
      "source": [
        "Plotting Model Performance"
      ]
    },
    {
      "cell_type": "code",
      "metadata": {
        "colab": {
          "base_uri": "https://localhost:8080/",
          "height": 573
        },
        "id": "8V-a234vHARB",
        "outputId": "7df02a3e-2c54-41a8-cf86-ce6932ca9c00"
      },
      "source": [
        "import matplotlib.pyplot as plt\n",
        "import numpy\n",
        "\n",
        "# summarize history for accuracy\n",
        "plt.plot(history.history['sparse_categorical_accuracy'])\n",
        "plt.plot(history.history['val_sparse_categorical_accuracy'])\n",
        "plt.title('model accuracy')\n",
        "plt.ylabel('accuracy')\n",
        "plt.xlabel('epoch')\n",
        "plt.legend(['train', 'test'], loc='upper left')\n",
        "plt.show()\n",
        "# summarize history for loss\n",
        "plt.plot(history.history['loss'])\n",
        "plt.plot(history.history['val_loss'])\n",
        "plt.title('model loss')\n",
        "plt.ylabel('loss')\n",
        "plt.xlabel('epoch')\n",
        "plt.legend(['train', 'test'], loc='upper left')\n",
        "plt.show()"
      ],
      "execution_count": 29,
      "outputs": [
        {
          "output_type": "display_data",
          "data": {
            "image/png": "[encoded data removed]",
            "text/plain": [
              "<Figure size 432x288 with 1 Axes>"
            ]
          },
          "metadata": {
            "needs_background": "light"
          }
        },
        {
          "output_type": "display_data",
          "data": {
            "image/png": "[encoded data removed]",
            "text/plain": [
              "<Figure size 432x288 with 1 Axes>"
            ]
          },
          "metadata": {
            "needs_background": "light"
          }
        }
      ]
    },
    {
      "cell_type": "markdown",
      "metadata": {
        "id": "ts1emkYntNs7"
      },
      "source": [
        "Model is giving a great Validation accuracy around 85+%"
      ]
    },
    {
      "cell_type": "markdown",
      "metadata": {
        "id": "-xzVO4y6tAT5"
      },
      "source": [
        "Saving Model"
      ]
    },
    {
      "cell_type": "code",
      "metadata": {
        "id": "Ht_ZcaURuFfo"
      },
      "source": [
        "model.save('rockpaper_model.h5')"
      ],
      "execution_count": 30,
      "outputs": []
    }
  ]
}